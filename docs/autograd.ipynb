{
 "cells": [
  {
   "cell_type": "markdown",
   "id": "9346229a",
   "metadata": {},
   "source": [
    "# Automatic Differentiation with `torch.autograd`\n",
    "\n",
    "**Back Propagation** is most frequent used algorithm while training Neural Network.\n",
    "In this algo, parameters( model weights ) are adjusted according to the gradient of the loss function with respect to the given parameter.\n",
    "\n",
    "to compute those gradients, pyTorch has a built-in differentiaion engine called `torch.autograd`. it support automatic computation of gradient for any computational graph.\n",
    "\n",
    "Consider simple one-layer NN, with:\n",
    "\n",
    "- `x` input\n",
    "- parameters `w` and `b`\n",
    "- some loss function"
   ]
  },
  {
   "cell_type": "code",
   "execution_count": 13,
   "id": "8539a41a",
   "metadata": {},
   "outputs": [],
   "source": [
    "import torch\n",
    "\n",
    "x = torch.ones(5)  # input tensor\n",
    "y = torch.zeros(3)  # expected output\n",
    "w = torch.randn(5, 3, requires_grad=True)\n",
    "b = torch.randn(3, requires_grad=True)\n",
    "z = torch.matmul(x, w)+b\n",
    "loss = torch.nn.functional.binary_cross_entropy_with_logits(z, y)\n",
    "# print(loss)"
   ]
  },
  {
   "cell_type": "markdown",
   "id": "c65b8745",
   "metadata": {},
   "source": [
    "### Tensors, Functions and Computational Graph"
   ]
  },
  {
   "cell_type": "code",
   "execution_count": 14,
   "id": "4661e81c",
   "metadata": {},
   "outputs": [
    {
     "name": "stdout",
     "output_type": "stream",
     "text": [
      "Gradient function for z = <AddBackward0 object at 0x000001DEB0DBAE90>\n",
      "Gradient function for loss = <BinaryCrossEntropyWithLogitsBackward0 object at 0x000001DEB0DB87C0>\n"
     ]
    }
   ],
   "source": [
    "print(f\"Gradient function for z = {z.grad_fn}\")\n",
    "print(f\"Gradient function for loss = {loss.grad_fn}\")"
   ]
  },
  {
   "cell_type": "markdown",
   "id": "01d3372c",
   "metadata": {},
   "source": [
    "### Computing Gradients\n",
    "\n",
    "To optimize weights of parameters in the neural network, we need to compute the derivatives of our loss function with respect to parameters, namely, we need      `∂loss/∂w`​ and `∂loss/∂b​` under some fixed values of `x` and `y`. To compute those derivatives, we call `loss.backward()`, and then retrieve the values from `w.grad` and `b.grad`:"
   ]
  },
  {
   "cell_type": "code",
   "execution_count": 15,
   "id": "781aa146",
   "metadata": {},
   "outputs": [
    {
     "name": "stdout",
     "output_type": "stream",
     "text": [
      "tensor([[0.3250, 0.1356, 0.0164],\n",
      "        [0.3250, 0.1356, 0.0164],\n",
      "        [0.3250, 0.1356, 0.0164],\n",
      "        [0.3250, 0.1356, 0.0164],\n",
      "        [0.3250, 0.1356, 0.0164]])\n",
      "tensor([0.3250, 0.1356, 0.0164])\n"
     ]
    }
   ],
   "source": [
    "loss.backward()\n",
    "print(w.grad)\n",
    "print(b.grad)"
   ]
  },
  {
   "cell_type": "markdown",
   "id": "e1f0a736",
   "metadata": {},
   "source": [
    "### Disabling Gradient Tracking"
   ]
  },
  {
   "cell_type": "code",
   "execution_count": null,
   "id": "635ae0ce",
   "metadata": {},
   "outputs": [
    {
     "name": "stdout",
     "output_type": "stream",
     "text": [
      "True\n",
      "False\n"
     ]
    }
   ],
   "source": [
    "z = torch.matmul(x, w)+b\n",
    "print(z.requires_grad)\n",
    "\n",
    "with torch.no_grad():\n",
    "    z = torch.matmul(x, w)+b\n",
    "print(z.requires_grad)"
   ]
  },
  {
   "cell_type": "code",
   "execution_count": 17,
   "id": "80a1a039",
   "metadata": {},
   "outputs": [
    {
     "name": "stdout",
     "output_type": "stream",
     "text": [
      "False\n"
     ]
    }
   ],
   "source": [
    "z = torch.matmul(x, w)+b\n",
    "z_det = z.detach()\n",
    "print(z_det.requires_grad)"
   ]
  },
  {
   "cell_type": "markdown",
   "id": "c113b17a",
   "metadata": {},
   "source": [
    "### More on Computational Graphs"
   ]
  },
  {
   "cell_type": "markdown",
   "id": "f2d30a64",
   "metadata": {},
   "source": [
    "### Optional Reading: Tensor Gradients and Jacobian Products"
   ]
  }
 ],
 "metadata": {
  "kernelspec": {
   "display_name": "pytorch_venv",
   "language": "python",
   "name": "python3"
  },
  "language_info": {
   "codemirror_mode": {
    "name": "ipython",
    "version": 3
   },
   "file_extension": ".py",
   "mimetype": "text/x-python",
   "name": "python",
   "nbconvert_exporter": "python",
   "pygments_lexer": "ipython3",
   "version": "3.11.9"
  }
 },
 "nbformat": 4,
 "nbformat_minor": 5
}
