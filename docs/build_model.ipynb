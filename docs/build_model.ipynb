{
 "cells": [
  {
   "cell_type": "markdown",
   "id": "ba2a3eeb",
   "metadata": {},
   "source": [
    "# Build the Neural Network\n"
   ]
  },
  {
   "cell_type": "code",
   "execution_count": 16,
   "id": "df587adc",
   "metadata": {},
   "outputs": [],
   "source": [
    "import os\n",
    "import torch\n",
    "from torch import nn\n",
    "from torch.utils.data import DataLoader\n",
    "from torchvision import datasets, transforms"
   ]
  },
  {
   "cell_type": "markdown",
   "id": "56b1ca92",
   "metadata": {},
   "source": [
    "### Get Device for training\n",
    "\n",
    "We want to be able to train our model on an accelerator such as CUDA, MPS, MTIA, or XPU. If the current accelerator is available, we will use it. Otherwise, we use the CPU."
   ]
  },
  {
   "cell_type": "code",
   "execution_count": null,
   "id": "d44a3d52",
   "metadata": {},
   "outputs": [
    {
     "name": "stdout",
     "output_type": "stream",
     "text": [
      "Using cuda device\n"
     ]
    }
   ],
   "source": [
    "device = torch.accelerator.current_accelerator() if torch.accelerator.is_available() else \"cpu\"\n",
    "print(f\"Using {device} device\")"
   ]
  },
  {
   "cell_type": "markdown",
   "id": "8c4dfc74",
   "metadata": {},
   "source": [
    "### Define the Class\n",
    "\n",
    "We define our neural network by subclassing `nn.Module`, and initialize the neural network layers in `__init__`. Every `nn.Module` subclass implements the operations on input data in the `forward` method."
   ]
  },
  {
   "cell_type": "code",
   "execution_count": 40,
   "id": "4419ecb4",
   "metadata": {},
   "outputs": [],
   "source": [
    "class NeuralNetwork(nn.Module):\n",
    "    def __init__(self):\n",
    "        super().__init__()  \n",
    "        self.flatten = nn.Flatten()\n",
    "        self.liner_relu_stack = nn.Sequential(\n",
    "            nn.Linear(28*28, 512),\n",
    "            nn.ReLU(),\n",
    "            nn.Linear(512, 512),\n",
    "            nn.ReLU(),\n",
    "            nn.Linear(512, 10),\n",
    "        )\n",
    "\n",
    "    def forward(self, x):\n",
    "        x = self.flatten(x)\n",
    "        logits = self.liner_relu_stack(x)\n",
    "        return logits"
   ]
  },
  {
   "cell_type": "markdown",
   "id": "d6f5cf01",
   "metadata": {},
   "source": [
    "We create an instance of `Neural Network`, and move it to the `device`, and print its structure."
   ]
  },
  {
   "cell_type": "code",
   "execution_count": 41,
   "id": "62cb5f0d",
   "metadata": {},
   "outputs": [
    {
     "name": "stdout",
     "output_type": "stream",
     "text": [
      "NeuralNetwork(\n",
      "  (flatten): Flatten(start_dim=1, end_dim=-1)\n",
      "  (liner_relu_stack): Sequential(\n",
      "    (0): Linear(in_features=784, out_features=512, bias=True)\n",
      "    (1): ReLU()\n",
      "    (2): Linear(in_features=512, out_features=512, bias=True)\n",
      "    (3): ReLU()\n",
      "    (4): Linear(in_features=512, out_features=10, bias=True)\n",
      "  )\n",
      ")\n"
     ]
    }
   ],
   "source": [
    "model = NeuralNetwork().to(device)\n",
    "print(model)"
   ]
  },
  {
   "cell_type": "code",
   "execution_count": 53,
   "id": "dcf1fe33",
   "metadata": {},
   "outputs": [],
   "source": [
    "# Notes"
   ]
  },
  {
   "cell_type": "code",
   "execution_count": 52,
   "id": "327dbd4b",
   "metadata": {},
   "outputs": [
    {
     "name": "stdout",
     "output_type": "stream",
     "text": [
      "Predicted class: tensor([5], device='cuda:0')\n"
     ]
    }
   ],
   "source": [
    "X = torch.rand(1, 28, 28, device=device)\n",
    "logits = model(X)\n",
    "pred_probab = nn.Softmax(dim=1)(logits)\n",
    "y_pred = pred_probab.argmax(1)\n",
    "print(f\"Predicted class: {y_pred}\")"
   ]
  },
  {
   "cell_type": "markdown",
   "id": "5a4ae2dc",
   "metadata": {},
   "source": [
    "### Model Layers"
   ]
  },
  {
   "cell_type": "code",
   "execution_count": 55,
   "id": "e189ec92",
   "metadata": {},
   "outputs": [
    {
     "name": "stdout",
     "output_type": "stream",
     "text": [
      "tensor([[[0.4636, 0.3223, 0.5861,  ..., 0.0394, 0.1890, 0.7044],\n",
      "         [0.2432, 0.6714, 0.7969,  ..., 0.5217, 0.2478, 0.7964],\n",
      "         [0.3349, 0.9554, 0.3277,  ..., 0.4157, 0.6213, 0.6595],\n",
      "         ...,\n",
      "         [0.8620, 0.9463, 0.9309,  ..., 0.9475, 0.5156, 0.4633],\n",
      "         [0.8687, 0.5993, 0.2405,  ..., 0.0161, 0.9048, 0.2285],\n",
      "         [0.3180, 0.0745, 0.6252,  ..., 0.0412, 0.7314, 0.5756]],\n",
      "\n",
      "        [[0.9902, 0.4668, 0.8115,  ..., 0.6918, 0.0766, 0.4585],\n",
      "         [0.0990, 0.4542, 0.6419,  ..., 0.5744, 0.5756, 0.1856],\n",
      "         [0.1013, 0.9827, 0.6108,  ..., 0.0622, 0.5485, 0.2581],\n",
      "         ...,\n",
      "         [0.8140, 0.5561, 0.5642,  ..., 0.2131, 0.5737, 0.3240],\n",
      "         [0.9593, 0.3754, 0.6515,  ..., 0.8251, 0.0898, 0.9540],\n",
      "         [0.5395, 0.0059, 0.8246,  ..., 0.5200, 0.6519, 0.5417]],\n",
      "\n",
      "        [[0.1180, 0.4795, 0.7787,  ..., 0.9871, 0.2208, 0.4813],\n",
      "         [0.8089, 0.1534, 0.6387,  ..., 0.3003, 0.2958, 0.0637],\n",
      "         [0.1489, 0.0865, 0.0697,  ..., 0.8246, 0.1198, 0.0770],\n",
      "         ...,\n",
      "         [0.2722, 0.5054, 0.7269,  ..., 0.8506, 0.1749, 0.7506],\n",
      "         [0.8542, 0.6895, 0.4472,  ..., 0.3987, 0.4807, 0.9120],\n",
      "         [0.9843, 0.4364, 0.0438,  ..., 0.9203, 0.1468, 0.5499]]])\n",
      "torch.Size([3, 28, 28])\n"
     ]
    }
   ],
   "source": [
    "input_image = torch.rand(3, 28, 28)\n",
    "print(input_image)\n",
    "print(input_image.size())"
   ]
  },
  {
   "cell_type": "markdown",
   "id": "a0de3a32",
   "metadata": {},
   "source": [
    "### nn.Flatten\n",
    "\n",
    "We initialize the `nn.flatten` layer to convert each 2D 28x28 image a contiguous array of 784 pixel values( the minibatch dimension (at dim=0) is maintained)."
   ]
  },
  {
   "cell_type": "code",
   "execution_count": 58,
   "id": "b74dffc4",
   "metadata": {},
   "outputs": [
    {
     "name": "stdout",
     "output_type": "stream",
     "text": [
      "tensor([[0.4636, 0.3223, 0.5861,  ..., 0.0412, 0.7314, 0.5756],\n",
      "        [0.9902, 0.4668, 0.8115,  ..., 0.5200, 0.6519, 0.5417],\n",
      "        [0.1180, 0.4795, 0.7787,  ..., 0.9203, 0.1468, 0.5499]])\n",
      "torch.Size([3, 784])\n"
     ]
    }
   ],
   "source": [
    "flatten = nn.Flatten()\n",
    "flat_image = flatten(input_image)\n",
    "print(flat_image)\n",
    "print(flat_image.size())"
   ]
  },
  {
   "cell_type": "markdown",
   "id": "258292e3",
   "metadata": {},
   "source": [
    "### nn.Linear\n",
    "\n",
    "The linear layer is a module that applies a linear transformation on the input using its stored weights and biases."
   ]
  },
  {
   "cell_type": "code",
   "execution_count": 60,
   "id": "7929c6c6",
   "metadata": {},
   "outputs": [
    {
     "name": "stdout",
     "output_type": "stream",
     "text": [
      "torch.Size([3, 20])\n"
     ]
    }
   ],
   "source": [
    "layer1 = nn.Linear(in_features=28*28, out_features=20)\n",
    "hidden1 = layer1(flat_image)\n",
    "print(hidden1.size())"
   ]
  },
  {
   "cell_type": "markdown",
   "id": "acd1d9ec",
   "metadata": {},
   "source": [
    "### nn.ReLU\n",
    "\n",
    "negative values -> 0"
   ]
  },
  {
   "cell_type": "code",
   "execution_count": 72,
   "id": "9de15b52",
   "metadata": {},
   "outputs": [
    {
     "name": "stdout",
     "output_type": "stream",
     "text": [
      "Before ReLU: tensor([[0.2654, 0.0000, 0.0000, 0.1017, 0.6601, 0.4090, 0.0537, 0.3378, 0.0000,\n",
      "         0.0000, 0.0000, 0.2667, 0.1671, 0.6319, 0.4313, 0.0000, 0.0000, 0.4930,\n",
      "         0.0000, 0.2605],\n",
      "        [0.4304, 0.0000, 0.0000, 0.4126, 0.6318, 0.1676, 0.0948, 0.0684, 0.0465,\n",
      "         0.0000, 0.0000, 0.0962, 0.2016, 0.4992, 0.0325, 0.0000, 0.0000, 0.2932,\n",
      "         0.0000, 0.0000],\n",
      "        [0.2428, 0.0213, 0.0000, 0.3006, 0.5404, 0.4285, 0.0321, 0.1925, 0.0000,\n",
      "         0.0000, 0.0572, 0.0000, 0.2984, 0.0000, 0.6748, 0.0000, 0.0000, 0.3365,\n",
      "         0.0000, 0.2540]], grad_fn=<ReluBackward0>)\n",
      "\n",
      "\n",
      "After ReLU: tensor([[0.2654, 0.0000, 0.0000, 0.1017, 0.6601, 0.4090, 0.0537, 0.3378, 0.0000,\n",
      "         0.0000, 0.0000, 0.2667, 0.1671, 0.6319, 0.4313, 0.0000, 0.0000, 0.4930,\n",
      "         0.0000, 0.2605],\n",
      "        [0.4304, 0.0000, 0.0000, 0.4126, 0.6318, 0.1676, 0.0948, 0.0684, 0.0465,\n",
      "         0.0000, 0.0000, 0.0962, 0.2016, 0.4992, 0.0325, 0.0000, 0.0000, 0.2932,\n",
      "         0.0000, 0.0000],\n",
      "        [0.2428, 0.0213, 0.0000, 0.3006, 0.5404, 0.4285, 0.0321, 0.1925, 0.0000,\n",
      "         0.0000, 0.0572, 0.0000, 0.2984, 0.0000, 0.6748, 0.0000, 0.0000, 0.3365,\n",
      "         0.0000, 0.2540]], grad_fn=<ReluBackward0>)\n",
      "\n",
      "\n"
     ]
    }
   ],
   "source": [
    "print(f\"Before ReLU: {hidden1}\\n\\n\")\n",
    "hidden1 = nn.ReLU()(hidden1)\n",
    "print(f\"After ReLU: {hidden1}\\n\\n\")"
   ]
  },
  {
   "cell_type": "markdown",
   "id": "a2d1f256",
   "metadata": {},
   "source": [
    "### nn.Sequential\n"
   ]
  },
  {
   "cell_type": "code",
   "execution_count": null,
   "id": "a229e91e",
   "metadata": {},
   "outputs": [],
   "source": [
    "seq_modules = nn.Sequential(\n",
    "    flatten, \n",
    "    layer1,\n",
    "    nn.ReLU(),\n",
    "    nn.Linear(20, 10)\n",
    ")\n",
    "input_image = torch.rand(3, 28, 28)\n",
    "logits = seq_modules(input_image)"
   ]
  },
  {
   "cell_type": "markdown",
   "id": "76b6c87f",
   "metadata": {},
   "source": [
    "### nn.Softmax"
   ]
  },
  {
   "cell_type": "code",
   "execution_count": null,
   "id": "6c13d322",
   "metadata": {},
   "outputs": [],
   "source": [
    "softmax = nn.Softmax(dim=1)\n",
    "pred_probab = softmax(logits)"
   ]
  },
  {
   "cell_type": "markdown",
   "id": "aacac58d",
   "metadata": {},
   "source": [
    "### Model Parameters\n",
    "\n"
   ]
  },
  {
   "cell_type": "code",
   "execution_count": null,
   "id": "762d12fa",
   "metadata": {},
   "outputs": [
    {
     "name": "stdout",
     "output_type": "stream",
     "text": [
      "Model structure: NeuralNetwork(\n",
      "  (flatten): Flatten(start_dim=1, end_dim=-1)\n",
      "  (liner_relu_stack): Sequential(\n",
      "    (0): Linear(in_features=784, out_features=512, bias=True)\n",
      "    (1): ReLU()\n",
      "    (2): Linear(in_features=512, out_features=512, bias=True)\n",
      "    (3): ReLU()\n",
      "    (4): Linear(in_features=512, out_features=10, bias=True)\n",
      "  )\n",
      ")\n",
      "\n",
      "\n",
      "Layer: liner_relu_stack.0.weight | Size: torch.Size([512, 784]) | Values : tensor([[-0.0061,  0.0182, -0.0245,  ...,  0.0004, -0.0054, -0.0235],\n",
      "        [-0.0218,  0.0173, -0.0078,  ..., -0.0297,  0.0113,  0.0020]],\n",
      "       device='cuda:0', grad_fn=<SliceBackward0>) \n",
      "\n",
      "Layer: liner_relu_stack.0.bias | Size: torch.Size([512]) | Values : tensor([-0.0070, -0.0066], device='cuda:0', grad_fn=<SliceBackward0>) \n",
      "\n",
      "Layer: liner_relu_stack.2.weight | Size: torch.Size([512, 512]) | Values : tensor([[ 0.0393,  0.0402, -0.0049,  ...,  0.0286, -0.0008,  0.0439],\n",
      "        [ 0.0078,  0.0283,  0.0293,  ...,  0.0302, -0.0098,  0.0291]],\n",
      "       device='cuda:0', grad_fn=<SliceBackward0>) \n",
      "\n",
      "Layer: liner_relu_stack.2.bias | Size: torch.Size([512]) | Values : tensor([-0.0110, -0.0304], device='cuda:0', grad_fn=<SliceBackward0>) \n",
      "\n",
      "Layer: liner_relu_stack.4.weight | Size: torch.Size([10, 512]) | Values : tensor([[ 0.0356,  0.0365,  0.0226,  ..., -0.0023,  0.0346,  0.0167],\n",
      "        [ 0.0260,  0.0217, -0.0237,  ...,  0.0094,  0.0004, -0.0273]],\n",
      "       device='cuda:0', grad_fn=<SliceBackward0>) \n",
      "\n",
      "Layer: liner_relu_stack.4.bias | Size: torch.Size([10]) | Values : tensor([-0.0182, -0.0369], device='cuda:0', grad_fn=<SliceBackward0>) \n",
      "\n"
     ]
    }
   ],
   "source": [
    "print(f\"Model structure: {model}\\n\\n\")\n",
    "      \n",
    "for name, param in model.named_parameters():\n",
    "    print(f\"Layer: {name} | Size: {param.size()} | Values : {param[:2]} \\n\")"
   ]
  },
  {
   "cell_type": "markdown",
   "id": "6607e4c0",
   "metadata": {},
   "source": [
    "[more info](http://docs.pytorch.org/docs/stable/nn.html)"
   ]
  }
 ],
 "metadata": {
  "kernelspec": {
   "display_name": "pytorch_venv",
   "language": "python",
   "name": "python3"
  },
  "language_info": {
   "codemirror_mode": {
    "name": "ipython",
    "version": 3
   },
   "file_extension": ".py",
   "mimetype": "text/x-python",
   "name": "python",
   "nbconvert_exporter": "python",
   "pygments_lexer": "ipython3",
   "version": "3.11.9"
  }
 },
 "nbformat": 4,
 "nbformat_minor": 5
}
