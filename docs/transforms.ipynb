{
 "cells": [
  {
   "cell_type": "markdown",
   "id": "639c33cd",
   "metadata": {},
   "source": [
    "# Transforms"
   ]
  },
  {
   "cell_type": "markdown",
   "id": "28d554e0",
   "metadata": {},
   "source": [
    "Data not always in final processed form which is required for training the ML Algo. \n",
    "\n",
    "**Transforms** is used to perform some manipulation of the data and make it suitable for training."
   ]
  },
  {
   "cell_type": "markdown",
   "id": "078f2bfa",
   "metadata": {},
   "source": [
    "All TorchVision datasets have two parameters: \n",
    "- `transform` to modify the features \n",
    "- `target_transform` to modify the labels\n",
    "\n",
    "they accepts callables containing the transformation logic. The [torchvision.transforms](https://docs.pytorch.org/vision/stable/transforms.html)"
   ]
  },
  {
   "cell_type": "markdown",
   "id": "b2fa4d83",
   "metadata": {},
   "source": [
    "The FashionMNIST features are in PIL Image format, and the labels are integers. For training, we need the features as normalized tensors, and the labels as one-hot encoded tensors. To make these transformations, we use ToTensor and Lambda."
   ]
  },
  {
   "cell_type": "code",
   "execution_count": null,
   "id": "e98d27b3",
   "metadata": {},
   "outputs": [
    {
     "name": "stdout",
     "output_type": "stream",
     "text": [
      "Dataset FashionMNIST\n",
      "    Number of datapoints: 60000\n",
      "    Root location: data\n",
      "    Split: Train\n",
      "Image <PIL.Image.Image image mode=L size=28x28 at 0x2072D5E8310>\n",
      "Label 8\n"
     ]
    }
   ],
   "source": [
    "import torch\n",
    "from torchvision import datasets\n",
    "from torchvision.transforms import ToTensor, Lambda\n",
    "\n",
    "ds = datasets.FashionMNIST(\n",
    "    root=\"data\",\n",
    "    train=True,\n",
    "    download=True,\n",
    "\n",
    "    # Try Commenting and Print\n",
    "    transform=ToTensor(),\n",
    "    target_transform=Lambda(lambda y: torch.zeros(10, dtype=torch.float).scatter_(0, torch.tensor(y), value=1))\n",
    ")\n",
    "print(ds)\n",
    "\n",
    "image, label = ds[59000]\n",
    "print(f\"Image {image}\")\n",
    "print(f\"Label {label}\")"
   ]
  },
  {
   "cell_type": "markdown",
   "id": "3ecb2dec",
   "metadata": {},
   "source": [
    "1. Without `transform`\n",
    "\n",
    "```python\n",
    "ds = datasets.FashionMNIST(root=\"data\", train=True, download=True)\n",
    "img, label = ds[0]\n",
    "```\n",
    "\n",
    "img -> normal PIL Image <br>\n",
    "lable -> a integer (0-9)\n",
    "\n",
    "2. With `transform=ToTensor()`\n",
    "\n",
    "```python\n",
    "ds = datasets.FashionMNIST(root=\"data\", train=True, download=True, transform=ToTensor())\n",
    "img, label = ds[0]\n",
    "```\n",
    "\n",
    "img → now becomes a PyTorch tensor ([1, 28, 28] with values in [0,1]). <br>\n",
    "label → still an integer.\n",
    "\n",
    "3. With `target_transform=Lambda(...)`\n",
    "\n",
    "```python\n",
    "target_transform=Lambda(lambda y: one_hot(y))\n",
    "```\n",
    "\n",
    "img -> still tensor\n",
    "label → instead of an int (e.g., 3), it becomes a one-hot encoded vector (size [10])."
   ]
  },
  {
   "cell_type": "markdown",
   "id": "701d0031",
   "metadata": {},
   "source": [
    "`ToTensor()` : ToTensor converts a PIL image or NumPy ndarray into a FloatTensor. and scales the image’s pixel intensity values in the range [0., 1.]\n",
    "\n",
    "### Lambda Transforms : \n",
    "Lambda transforms apply any user-defined lambda function. Here, we define a function to turn the integer into a one-hot encoded tensor. It first creates a zero tensor of size 10 (the number of labels in our dataset) and calls scatter_ which assigns a value=1 on the index as given by the label y.\n",
    "\n",
    "**[more info](https://docs.pytorch.org/vision/stable/transforms.html)**"
   ]
  },
  {
   "cell_type": "code",
   "execution_count": null,
   "id": "69924ad4",
   "metadata": {},
   "outputs": [],
   "source": [
    "target_transform = Lambda(lambda y: torch.zeros(10, dtype=torch.float).scatter_(dim=0, index=torch.tensor(y), value=1))"
   ]
  }
 ],
 "metadata": {
  "kernelspec": {
   "display_name": "pytorch_venv",
   "language": "python",
   "name": "python3"
  },
  "language_info": {
   "codemirror_mode": {
    "name": "ipython",
    "version": 3
   },
   "file_extension": ".py",
   "mimetype": "text/x-python",
   "name": "python",
   "nbconvert_exporter": "python",
   "pygments_lexer": "ipython3",
   "version": "3.11.9"
  }
 },
 "nbformat": 4,
 "nbformat_minor": 5
}
