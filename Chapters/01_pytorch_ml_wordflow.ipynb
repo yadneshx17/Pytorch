{
 "cells": [
  {
   "cell_type": "code",
   "execution_count": 861,
   "id": "b1cb12c4",
   "metadata": {},
   "outputs": [],
   "source": [
    "what_were_covering = {1: \"data (prepare and load)\",\n",
    "    2: \"build model\",\n",
    "    3: \"fitting the model to data (training)\",\n",
    "    4: \"making predictions and evaluating a model (inference)\",\n",
    "    5: \"saving and loading a model\",\n",
    "    6: \"putting it all together\"\n",
    "}"
   ]
  },
  {
   "cell_type": "code",
   "execution_count": 862,
   "id": "654aaaa8",
   "metadata": {},
   "outputs": [
    {
     "data": {
      "text/plain": [
       "'2.8.0+cu129'"
      ]
     },
     "execution_count": 862,
     "metadata": {},
     "output_type": "execute_result"
    }
   ],
   "source": [
    "import torch\n",
    "from torch import nn # nn contains all of PyTorch's building blocks for neural networks\n",
    "import matplotlib.pyplot as plt\n",
    "\n",
    "# Check PyTorch version\n",
    "torch.__version__"
   ]
  },
  {
   "cell_type": "markdown",
   "id": "d47588b8",
   "metadata": {},
   "source": [
    "## 1. Data (preparing and loading)\n",
    "\n",
    "Data can be almost anything which can be convert into numbers. \n",
    "\n",
    "Machine learning is a game of two parts:\n",
    "\n",
    "- Turn your data, whatever it is, into numbers (a representation).\n",
    "- Pick or build a model to learn the representation as best as possible.\n",
    "\n",
    "To showcase this, let's create some *known* data using the linear regression forumla.\n",
    "\n",
    "we'll use a linear regression formula to make a straight line with *known* **parameters**."
   ]
  },
  {
   "cell_type": "code",
   "execution_count": 863,
   "id": "84a2a54e",
   "metadata": {},
   "outputs": [
    {
     "data": {
      "text/plain": [
       "(tensor([[0.0000],\n",
       "         [0.0200],\n",
       "         [0.0400],\n",
       "         [0.0600],\n",
       "         [0.0800],\n",
       "         [0.1000],\n",
       "         [0.1200],\n",
       "         [0.1400],\n",
       "         [0.1600],\n",
       "         [0.1800]]),\n",
       " tensor([[0.3000],\n",
       "         [0.3140],\n",
       "         [0.3280],\n",
       "         [0.3420],\n",
       "         [0.3560],\n",
       "         [0.3700],\n",
       "         [0.3840],\n",
       "         [0.3980],\n",
       "         [0.4120],\n",
       "         [0.4260]]))"
      ]
     },
     "execution_count": 863,
     "metadata": {},
     "output_type": "execute_result"
    }
   ],
   "source": [
    "# Create *known* parameters\n",
    "weight = 0.7\n",
    "bias = 0.3\n",
    "\n",
    "# create \n",
    "start = 0\n",
    "end = 1\n",
    "step = 0.02\n",
    "\n",
    "X = torch.arange(start, end, step).unsqueeze(dim=1)\n",
    "# print(X)\n",
    "y = weight * X + bias # linear regression formula. # something that i wanna achieve \n",
    "\n",
    "X[:10], y[:10]"
   ]
  },
  {
   "cell_type": "code",
   "execution_count": 864,
   "id": "711d8faa",
   "metadata": {},
   "outputs": [
    {
     "data": {
      "text/plain": [
       "(50, 50)"
      ]
     },
     "execution_count": 864,
     "metadata": {},
     "output_type": "execute_result"
    }
   ],
   "source": [
    "len(X), len(y)"
   ]
  },
  {
   "cell_type": "markdown",
   "id": "319e9e41",
   "metadata": {},
   "source": [
    "### Splitting data into training and test sets (one of the most important concepts in machine learning in general) \n",
    "\n",
    "**Creating training and test set with out data.**"
   ]
  },
  {
   "cell_type": "code",
   "execution_count": 865,
   "id": "da51a9dc",
   "metadata": {},
   "outputs": [
    {
     "data": {
      "text/plain": [
       "(40, 40, 10, 10)"
      ]
     },
     "execution_count": 865,
     "metadata": {},
     "output_type": "execute_result"
    }
   ],
   "source": [
    "# Create a train/test split\n",
    "train_split = int(0.8 * len(X))\n",
    "X_train, y_train = X[:train_split], y[:train_split]\n",
    "X_test, y_test = X[train_split:], y[train_split:]\n",
    "\n",
    "len(X_train), len(y_train), len(X_test), len(y_test)"
   ]
  },
  {
   "cell_type": "markdown",
   "id": "59b13051",
   "metadata": {},
   "source": [
    "**Visualize**"
   ]
  },
  {
   "cell_type": "code",
   "execution_count": 866,
   "id": "985194f3",
   "metadata": {},
   "outputs": [],
   "source": [
    "def plot_predictions(train_data=X_train, \n",
    "                     train_labels=y_train, \n",
    "                     test_data=X_test, \n",
    "                     test_labels=y_test, \n",
    "                     predictions=None):\n",
    "    \"\"\"\n",
    "    Plots training data, test data and compares predictions.\n",
    "    \"\"\"\n",
    "    plt.Figure(figsize=(10, 7))\n",
    "\n",
    "    # Plot training data in blue \n",
    "    plt.scatter(train_data, train_labels, c=\"b\", s=4, label=\"Training data\")\n",
    "\n",
    "    # Plot test data in green\n",
    "    plt.scatter(test_data, test_labels, c=\"g\", s=4, label=\"Testing data\")\n",
    "\n",
    "    # Are there predicttions?\n",
    "    if predictions is not None: \n",
    "        plt.scatter(test_data, predictions, c=\"r\", s=4, label=\"Predictions\")\n",
    "\n",
    "    # Show the legend\n",
    "    plt.legend(prop={\"size\": 14});\n",
    "    "
   ]
  },
  {
   "cell_type": "code",
   "execution_count": 867,
   "id": "c038c124",
   "metadata": {},
   "outputs": [
    {
     "data": {
      "image/png": "[encoded data removed]",
      "text/plain": [
       "<Figure size 640x480 with 1 Axes>"
      ]
     },
     "metadata": {},
     "output_type": "display_data"
    }
   ],
   "source": [
    "plot_predictions();"
   ]
  },
  {
   "cell_type": "markdown",
   "id": "31fe98fa",
   "metadata": {},
   "source": [
    "### Build a Model\n",
    "\n",
    "First pytorch Model!\n",
    "\n",
    "[`nn.module`](https://docs.pytorch.org/docs/stable/nn.html) fundamental module within the PyTorch deep learning framework, designed to facilitate the creation and training of neural networks. Provides all Building Blocks.\n",
    "\n",
    "[Build Model](https://docs.pytorch.org/tutorials/beginner/basics/buildmodel_tutorial.html)\n",
    "\n",
    "\n",
    "[`nn.Module`](https://docs.pytorch.org/docs/stable/generated/torch.nn.Module.html) : Base class for all neural network in PyTorch. \n",
    "\n",
    "[`nn.Parameter`](https://docs.pytorch.org/docs/stable/generated/torch.nn.parameter.Parameter.html)\n",
    "\n",
    "`requires_grad` :  automatic differentiation engine (Autograd) should record operations performed on that tensor for gradient computation.\n",
    "\n",
    "\n",
    "What this model does:\n",
    "* Start with random values ( weight & bias)\n",
    "* look at training data and adjust the random values to better represent ( or get closer to ) the ideal values ( the weight and bias values we used to create the data )\n",
    "\n",
    "Created two parameters instantiated as random\n",
    "we working with simple dataset \n",
    "\n",
    "if dataset which is not created by you, wont create this parameters right they will be from `nn` module.\n",
    "\n",
    "How does it do so? \n",
    "1. Gradient descent\n",
    "2. Backpropagation\n",
    "\n",
    "`nn.Linear(1,1)` - in-built Linear Regression model\n",
    "\n",
    "Custom Model - Custom Model (LinearRegressionModel): You manually define and initialize the weights and bias as `nn.Parameter` objects.\n",
    "\n",
    "Built-in Layer - This is an encapsulated module that handles the weight and bias initialization for y u. It's a more abstract and standardized way to add a linear layer, nn.Linear is the preferred approach for real-world projects because it abstracts away the manual parameter creation and management, which can get complicated in larger models.\n",
    "\n",
    "https://colab.research.google.com/drive/1QOIGNiJ0uwGJpiJQu1B0UyTK9kZ_zplc#scrollTo=CjBtrSDM2BHV"
   ]
  },
  {
   "cell_type": "code",
   "execution_count": 868,
   "id": "830ba642",
   "metadata": {},
   "outputs": [],
   "source": [
    "# Create a Linear Regression handcrafted model class\n",
    "class LinearRegressionModel(nn.Module): # <- almost everything in PyTorch is a nn.Module (think of this as neural network lego blocks)\n",
    "    def __init__(self):\n",
    "        super().__init__() \n",
    "\n",
    "        # initialize model parameters\n",
    "        self.weights = nn.Parameter(torch.randn(1, # <- start with random weights (this will get adjusted as the model learns)\n",
    "                                                dtype=torch.float), # <- PyTorch loves float32 by default\n",
    "                                   requires_grad=True) # <- can we update this value with gradient descent?)\n",
    "        \n",
    "        # print(f\"\\nWeight:> {self.weights}\\n\\n\" )\n",
    "        \n",
    "        self.bias = nn.Parameter(torch.randn(1, # <- start with random bias (this will get adjusted as the model learns)\n",
    "                                            dtype=torch.float), # <- PyTorch loves float32 by default\n",
    "                                requires_grad=True) # <- can we update this value with gradient descent?))\n",
    "        \n",
    "        # print(f\"Bias:> {self.bias}\\n\\n\" )\n",
    "\n",
    "    # Forward defines the computation in the model\n",
    "    def forward(self, x: torch.Tensor) -> torch.Tensor: # <- \"x\" is the input data (e.g. training/testing features)\n",
    "        return self.weights * x + self.bias # <- this is the linear regression formula (y = m*x + b)"
   ]
  },
  {
   "cell_type": "code",
   "execution_count": 869,
   "id": "2cb3733d",
   "metadata": {},
   "outputs": [
    {
     "data": {
      "text/plain": [
       "(tensor([[0.8000],\n",
       "         [0.8200],\n",
       "         [0.8400],\n",
       "         [0.8600],\n",
       "         [0.8800],\n",
       "         [0.9000],\n",
       "         [0.9200],\n",
       "         [0.9400],\n",
       "         [0.9600],\n",
       "         [0.9800]]),\n",
       " tensor([[0.8600],\n",
       "         [0.8740],\n",
       "         [0.8880],\n",
       "         [0.9020],\n",
       "         [0.9160],\n",
       "         [0.9300],\n",
       "         [0.9440],\n",
       "         [0.9580],\n",
       "         [0.9720],\n",
       "         [0.9860]]))"
      ]
     },
     "execution_count": 869,
     "metadata": {},
     "output_type": "execute_result"
    }
   ],
   "source": [
    "X_test, y_test"
   ]
  },
  {
   "cell_type": "code",
   "execution_count": 870,
   "id": "d3089718",
   "metadata": {},
   "outputs": [
    {
     "name": "stdout",
     "output_type": "stream",
     "text": [
      "x1: tensor([0.8823])\n",
      "Parameters of Our Model W & B: [Parameter containing:\n",
      "tensor([-0.6382], requires_grad=True), Parameter containing:\n",
      "tensor([1.3554], requires_grad=True)]\n",
      "\n",
      "Look: tensor([0.7924], grad_fn=<AddBackward0>)\n"
     ]
    }
   ],
   "source": [
    "# Create a random Seed\n",
    "torch.manual_seed(42)\n",
    "\n",
    "# x1 = torch.rand(3, 4)\n",
    "x1 = torch.rand(1) # Try doing manually you will get it.\n",
    "print(f\"x1: {x1}\")\n",
    "\n",
    "\n",
    "# Create an instance of the model (this is a subclass of nn.module)\n",
    "model1 = LinearRegressionModel()\n",
    " \n",
    "# Check out the parameters\n",
    "print(f\"Parameters of Our Model W & B: {list(model1.parameters())}\\n\")\n",
    "\n",
    "print(f\"Look: {model1.forward(x1)}\")"
   ]
  },
  {
   "cell_type": "code",
   "execution_count": 871,
   "id": "d8700a79",
   "metadata": {},
   "outputs": [
    {
     "data": {
      "text/plain": [
       "OrderedDict([('weights', tensor([-0.6382])), ('bias', tensor([1.3554]))])"
      ]
     },
     "execution_count": 871,
     "metadata": {},
     "output_type": "execute_result"
    }
   ],
   "source": [
    "# List named parameters\n",
    "model1.state_dict()"
   ]
  },
  {
   "cell_type": "code",
   "execution_count": 872,
   "id": "7e3dbbdb",
   "metadata": {},
   "outputs": [
    {
     "data": {
      "text/plain": [
       "[Parameter containing:\n",
       " tensor([0.3367], requires_grad=True),\n",
       " Parameter containing:\n",
       " tensor([0.1288], requires_grad=True)]"
      ]
     },
     "execution_count": 872,
     "metadata": {},
     "output_type": "execute_result"
    }
   ],
   "source": [
    "# Create a random seed \n",
    "torch.manual_seed(42)\n",
    "\n",
    "# Create an instance of the model ( this is a subclass of nn.Module )\n",
    "model_0 = LinearRegressionModel()\n",
    "\n",
    "# Check out the parameters\n",
    "list(model_0.parameters())"
   ]
  },
  {
   "cell_type": "code",
   "execution_count": 873,
   "id": "1ecab58d",
   "metadata": {},
   "outputs": [
    {
     "data": {
      "text/plain": [
       "OrderedDict([('weights', tensor([0.3367])), ('bias', tensor([0.1288]))])"
      ]
     },
     "execution_count": 873,
     "metadata": {},
     "output_type": "execute_result"
    }
   ],
   "source": [
    "# List named parameters\n",
    "model_0.state_dict() "
   ]
  },
  {
   "cell_type": "markdown",
   "id": "46b1b7ce",
   "metadata": {},
   "source": [
    "Making prediction using `torch.inference_mode()`\n",
    "\n",
    "To check our model's predictive power, let's see how well it predicts y_test based on x_test.\n",
    "\n",
    "When we pass data through our model, it's going to run it through the `forward()` method."
   ]
  },
  {
   "cell_type": "code",
   "execution_count": 874,
   "id": "df5ae988",
   "metadata": {},
   "outputs": [
    {
     "data": {
      "text/plain": [
       "tensor([[0.3982],\n",
       "        [0.4049],\n",
       "        [0.4116],\n",
       "        [0.4184],\n",
       "        [0.4251],\n",
       "        [0.4318],\n",
       "        [0.4386],\n",
       "        [0.4453],\n",
       "        [0.4520],\n",
       "        [0.4588]], grad_fn=<AddBackward0>)"
      ]
     },
     "execution_count": 874,
     "metadata": {},
     "output_type": "execute_result"
    }
   ],
   "source": [
    "y_preds = model_0(X_test)\n",
    "y_preds"
   ]
  },
  {
   "cell_type": "code",
   "execution_count": 875,
   "id": "0d2259f7",
   "metadata": {},
   "outputs": [
    {
     "data": {
      "text/plain": [
       "tensor([[0.3982],\n",
       "        [0.4049],\n",
       "        [0.4116],\n",
       "        [0.4184],\n",
       "        [0.4251],\n",
       "        [0.4318],\n",
       "        [0.4386],\n",
       "        [0.4453],\n",
       "        [0.4520],\n",
       "        [0.4588]])"
      ]
     },
     "execution_count": 875,
     "metadata": {},
     "output_type": "execute_result"
    }
   ],
   "source": [
    "with torch.inference_mode(): # disable grad_tracking \n",
    "    y_preds = model_0(X_test) \n",
    "y_preds"
   ]
  },
  {
   "cell_type": "code",
   "execution_count": 876,
   "id": "f87643f2",
   "metadata": {},
   "outputs": [
    {
     "data": {
      "text/plain": [
       "tensor([[0.8600],\n",
       "        [0.8740],\n",
       "        [0.8880],\n",
       "        [0.9020],\n",
       "        [0.9160],\n",
       "        [0.9300],\n",
       "        [0.9440],\n",
       "        [0.9580],\n",
       "        [0.9720],\n",
       "        [0.9860]])"
      ]
     },
     "execution_count": 876,
     "metadata": {},
     "output_type": "execute_result"
    }
   ],
   "source": [
    "y_test"
   ]
  },
  {
   "cell_type": "code",
   "execution_count": 877,
   "id": "2b5a6696",
   "metadata": {},
   "outputs": [
    {
     "data": {
      "image/png": "[encoded data removed]",
      "text/plain": [
       "<Figure size 640x480 with 1 Axes>"
      ]
     },
     "metadata": {},
     "output_type": "display_data"
    }
   ],
   "source": [
    "plot_predictions(predictions=y_preds)"
   ]
  },
  {
   "cell_type": "markdown",
   "id": "7fba9a54",
   "metadata": {},
   "source": [
    "#### 3. Train model\n",
    "The whole idea of training is for a model to move from some unknown parameters (these may be random) to some known parameters.\n",
    "\n",
    "Or in other words from a poor representation of the data to a better representation of the data.\n",
    "\n",
    "One way to measure how poor or how wrong your models predictions are is to use a loss function.\n",
    "\n",
    "- Note: Loss function may also be called cost function or criterion in different areas. For our case, we're going to refer to it as a loss function.\n",
    "\n",
    "Things we need to train:\n",
    "\n",
    "- **Loss function**: A function to measure how wrong your model's predictions are to the ideal outputs, lower is better.\n",
    "- **Optimizer**: Takes into account the loss of a model and adjusts the model's parameters (e.g. weight & Bias) to improve the loss function.\n",
    "\n",
    "\n",
    "And specifically for pytorch, we need\n",
    "- A training loop\n",
    "- A tesing loop"
   ]
  },
  {
   "cell_type": "code",
   "execution_count": 878,
   "id": "9ab985b5",
   "metadata": {},
   "outputs": [
    {
     "data": {
      "text/plain": [
       "[Parameter containing:\n",
       " tensor([0.3367], requires_grad=True),\n",
       " Parameter containing:\n",
       " tensor([0.1288], requires_grad=True)]"
      ]
     },
     "execution_count": 878,
     "metadata": {},
     "output_type": "execute_result"
    }
   ],
   "source": [
    "list(model_0.parameters())"
   ]
  },
  {
   "cell_type": "code",
   "execution_count": 879,
   "id": "34bb880b",
   "metadata": {},
   "outputs": [
    {
     "data": {
      "text/plain": [
       "OrderedDict([('weights', tensor([0.3367])), ('bias', tensor([0.1288]))])"
      ]
     },
     "execution_count": 879,
     "metadata": {},
     "output_type": "execute_result"
    }
   ],
   "source": [
    "# check out models pararmters ( a parameter is a value that the model sets itself )\n",
    "model_0.state_dict()"
   ]
  },
  {
   "cell_type": "markdown",
   "id": "391d5328",
   "metadata": {},
   "source": [
    "**Mean absolute error** (MAE, in PyTorch: torch.nn.L1Loss) measures the absolute difference between two points (predictions and labels) and then takes the mean across all examples.\n",
    "\n",
    "And we'll use SGD, `torch.optim.SGD(params, lr)` where:\n",
    "\n",
    "- params is the target model parameters you'd like to optimize (e.g. the weights and bias values we randomly set before).\n",
    "\n",
    "- `lr` is the *learning rate* you'd like the optimizer to update the parameters at, higher means the optimizer will try larger updates (these can sometimes be too large and the optimizer will fail to work), lower means the optimizer will try smaller updates (these can sometimes be too small and the optimizer will take too long to find the ideal values). The learning rate is considered a *hyperparameter* (because it's set by a machine learning engineer). Common starting values for the learning rate are 0.01, 0.001, 0.0001, however, these can also be adjusted over time (this is called learning rate scheduling).\n",
    "\n",
    "    - small `lr` -> small changes\n",
    "    - large `lr` -> large changes"
   ]
  },
  {
   "cell_type": "code",
   "execution_count": 880,
   "id": "d5f41c87",
   "metadata": {},
   "outputs": [],
   "source": [
    "# Setup a loss function \n",
    "loss_fn = nn.L1Loss()\n",
    "\n",
    "# Setup a optimizer ( stochastic gradient descent )\n",
    "optimizer = torch.optim.SGD(params=model_0.parameters(),\n",
    "                            lr=0.01) # lr = learning rate = possibly the most important hyperparameters you can set\n",
    "                            # the way the the rate is the way the parameters changes."
   ]
  },
  {
   "cell_type": "markdown",
   "id": "17601638",
   "metadata": {},
   "source": [
    "### Building a training loop (and a testing loop) in PyTorch\n",
    "A couple of things we need in a training loop:\n",
    "\n",
    "0. Loop through the data\n",
    "\n",
    "1. Forward pass (this involves data moving through our model's `forward()` functions) to make predictions on data also called forward propagation\n",
    "\n",
    "2. Calculate the loss (compare forward pass predictions to ground truth labels)\n",
    "\n",
    "3. Optimizer zero grad\n",
    "\n",
    "4. Loss backward move backwards through the network to calculate the gradients of each of the parameters of our model with respect to the loss ( **backpropagation** )\n",
    "\n",
    "5. Optimizer step improve the loss use the optimizer to adjust our model's parameters to try and improves the loss ( **gradient descent** )"
   ]
  },
  {
   "cell_type": "code",
   "execution_count": 881,
   "id": "17db1662",
   "metadata": {},
   "outputs": [
    {
     "name": "stdout",
     "output_type": "stream",
     "text": [
      "Loss: 0.31288138031959534\n",
      "Epoch: 0 | MAE Train Loss: 0.31288138031959534 | MAE Test Loss: 0.48106518387794495 \n",
      "OrderedDict([('weights', tensor([0.3406])), ('bias', tensor([0.1388]))])\n",
      "Loss: 0.3013603389263153\n",
      "Loss: 0.28983935713768005\n",
      "Loss: 0.2783183455467224\n",
      "Loss: 0.26679736375808716\n",
      "Loss: 0.2552763521671295\n",
      "Loss: 0.24375534057617188\n",
      "Loss: 0.23223432898521423\n",
      "Loss: 0.22071333229541779\n",
      "Loss: 0.20919232070446014\n",
      "Loss: 0.1976713240146637\n",
      "Epoch: 10 | MAE Train Loss: 0.1976713240146637 | MAE Test Loss: 0.3463551998138428 \n",
      "OrderedDict([('weights', tensor([0.3796])), ('bias', tensor([0.2388]))])\n",
      "Loss: 0.18615034222602844\n",
      "Loss: 0.1746293306350708\n",
      "Loss: 0.16310831904411316\n",
      "Loss: 0.1515873372554779\n",
      "Loss: 0.14006635546684265\n",
      "Loss: 0.1285453587770462\n",
      "Loss: 0.11702437698841095\n",
      "Loss: 0.1060912236571312\n",
      "Loss: 0.09681284427642822\n",
      "Loss: 0.08908725529909134\n",
      "Epoch: 20 | MAE Train Loss: 0.08908725529909134 | MAE Test Loss: 0.21729660034179688 \n",
      "OrderedDict([('weights', tensor([0.4184])), ('bias', tensor([0.3333]))])\n",
      "Loss: 0.08227583020925522\n",
      "Loss: 0.07638873159885406\n",
      "Loss: 0.07160007208585739\n",
      "Loss: 0.06747635453939438\n",
      "Loss: 0.06395438313484192\n",
      "Loss: 0.06097004935145378\n",
      "Loss: 0.05845819041132927\n",
      "Loss: 0.05635259300470352\n",
      "Loss: 0.0545857772231102\n",
      "Loss: 0.053148526698350906\n",
      "Epoch: 30 | MAE Train Loss: 0.053148526698350906 | MAE Test Loss: 0.14464017748832703 \n",
      "OrderedDict([('weights', tensor([0.4512])), ('bias', tensor([0.3768]))])\n",
      "Loss: 0.05181945487856865\n",
      "Loss: 0.05069301277399063\n",
      "Loss: 0.0498228520154953\n",
      "Loss: 0.04895269125699997\n",
      "Loss: 0.04819351062178612\n",
      "Loss: 0.047531817108392715\n",
      "Loss: 0.04692792519927025\n",
      "Loss: 0.04642331600189209\n",
      "Loss: 0.04591871052980423\n",
      "Loss: 0.04543796554207802\n",
      "Epoch: 40 | MAE Train Loss: 0.04543796554207802 | MAE Test Loss: 0.11360953003168106 \n",
      "OrderedDict([('weights', tensor([0.4748])), ('bias', tensor([0.3868]))])\n",
      "Loss: 0.04503796249628067\n",
      "Loss: 0.04463795945048332\n",
      "Loss: 0.04423796385526657\n",
      "Loss: 0.04383796453475952\n",
      "Loss: 0.04343796148896217\n",
      "Loss: 0.043074630200862885\n",
      "Loss: 0.04272563382983208\n",
      "Loss: 0.04237663000822067\n",
      "Loss: 0.04202762991189957\n",
      "Loss: 0.04167863354086876\n",
      "Epoch: 50 | MAE Train Loss: 0.04167863354086876 | MAE Test Loss: 0.09919948130846024 \n",
      "OrderedDict([('weights', tensor([0.4938])), ('bias', tensor([0.3843]))])\n",
      "Loss: 0.04132963344454765\n",
      "Loss: 0.04098063334822655\n",
      "Loss: 0.04063162952661514\n",
      "Loss: 0.040282636880874634\n",
      "Loss: 0.039933640509843826\n",
      "Loss: 0.03958464413881302\n",
      "Loss: 0.03923564404249191\n",
      "Loss: 0.03888664394617081\n",
      "Loss: 0.0385376438498497\n",
      "Loss: 0.03818932920694351\n",
      "Epoch: 60 | MAE Train Loss: 0.03818932920694351 | MAE Test Loss: 0.08886633068323135 \n",
      "OrderedDict([('weights', tensor([0.5116])), ('bias', tensor([0.3788]))])\n",
      "Loss: 0.03785243630409241\n",
      "Loss: 0.0375034399330616\n",
      "Loss: 0.037164121866226196\n",
      "Loss: 0.03681822493672371\n",
      "Loss: 0.03647511452436447\n",
      "Loss: 0.03613303601741791\n",
      "Loss: 0.03578609973192215\n",
      "Loss: 0.03544783592224121\n",
      "Loss: 0.035098835825920105\n",
      "Loss: 0.03476089984178543\n",
      "Epoch: 70 | MAE Train Loss: 0.03476089984178543 | MAE Test Loss: 0.0805937647819519 \n",
      "OrderedDict([('weights', tensor([0.5288])), ('bias', tensor([0.3718]))])\n",
      "Loss: 0.03441363573074341\n",
      "Loss: 0.03407188132405281\n",
      "Loss: 0.03372843936085701\n",
      "Loss: 0.03338287025690079\n",
      "Loss: 0.033043231815099716\n",
      "Loss: 0.03269423171877861\n",
      "Loss: 0.032357655465602875\n",
      "Loss: 0.03200903534889221\n",
      "Loss: 0.03166864812374115\n",
      "Loss: 0.03132382780313492\n",
      "Epoch: 80 | MAE Train Loss: 0.03132382780313492 | MAE Test Loss: 0.07232122868299484 \n",
      "OrderedDict([('weights', tensor([0.5459])), ('bias', tensor([0.3648]))])\n",
      "Loss: 0.030979642644524574\n",
      "Loss: 0.030638623982667923\n",
      "Loss: 0.0302906334400177\n",
      "Loss: 0.029953425750136375\n",
      "Loss: 0.02960442565381527\n",
      "Loss: 0.029265418648719788\n",
      "Loss: 0.028919223695993423\n",
      "Loss: 0.028576409444212914\n",
      "Loss: 0.028234025463461876\n",
      "Loss: 0.02788739837706089\n",
      "Epoch: 90 | MAE Train Loss: 0.02788739837706089 | MAE Test Loss: 0.06473556160926819 \n",
      "OrderedDict([('weights', tensor([0.5629])), ('bias', tensor([0.3573]))])\n",
      "Loss: 0.02754882536828518\n",
      "Loss: 0.027199819684028625\n",
      "Loss: 0.026862185448408127\n",
      "Loss: 0.02651461586356163\n",
      "Loss: 0.026173178106546402\n",
      "Loss: 0.025829419493675232\n",
      "Loss: 0.02548416517674923\n",
      "Loss: 0.025144213810563087\n",
      "Loss: 0.02479521557688713\n"
     ]
    }
   ],
   "source": [
    "torch.manual_seed(42)\n",
    "\n",
    "# Set the number of epochs (how many times the model will pass over the training data)\n",
    "epochs = 100\n",
    "\n",
    "# Create empty loss lists to track values\n",
    "train_loss_values = []\n",
    "test_loss_values = []\n",
    "epoch_count = []\n",
    "\n",
    "for epoch in range(epochs):\n",
    "    ### Training\n",
    "    # Put model in training mode (this is the default state of a model)\n",
    "    model_0.train()\n",
    "\n",
    "    # 1. Forward pass :  on train data using the forward() method inside \n",
    "    y_pred = model_0(X_train)\n",
    "    # print(y_pred)\n",
    "\n",
    "    # 2. Calculate the loss (how different are our models predictions to the ground truth)\n",
    "    loss = loss_fn(y_pred, y_train)\n",
    "    print(f\"Loss: {loss}\")\n",
    "\n",
    "    # 3. Optimiser zero grad\n",
    "    optimizer.zero_grad()\n",
    "\n",
    "    # 4. Loss backwards\n",
    "    # Performs backpropagation on the loss with respect to the parameters of the model ( calculate gradients of each parameter )\n",
    "    loss.backward()\n",
    "\n",
    "    # 5. Progress the optimizer\n",
    "    # Takes steps to optimize ( perform gradient descent )\n",
    "    optimizer.step() # by default how the gradient changes will accuumate through the loop so... we have to zero them above f \n",
    "\n",
    "\n",
    "    ### Testing\n",
    "    # Put the model in evaluation mode\n",
    "    model_0.eval() # turns off different settings in the model not needed for \n",
    "\n",
    "    with torch.inference_mode(): \n",
    "        \n",
    "        # 1. Do the forward pass\n",
    "        test_preds = model_0(X_test)\n",
    "\n",
    "        # 2. Calculate the loss\n",
    "        test_loss = loss_fn(test_preds, y_test)\n",
    "\n",
    "    # Print out what's happening\n",
    "    if epoch % 10 == 0:\n",
    "        epoch_count.append(epoch)\n",
    "        train_loss_values.append(loss.detach())\n",
    "        test_loss_values.append(test_loss.detach())\n",
    "        print(f\"Epoch: {epoch} | MAE Train Loss: {loss} | MAE Test Loss: {test_loss} \")\n",
    "        print(model_0.state_dict())\n",
    "        \n",
    "# print(model_0.state_dict())"
   ]
  },
  {
   "cell_type": "code",
   "execution_count": 882,
   "id": "adc5adf9",
   "metadata": {},
   "outputs": [
    {
     "data": {
      "image/png": "[encoded data removed]",
      "text/plain": [
       "<Figure size 640x480 with 1 Axes>"
      ]
     },
     "metadata": {},
     "output_type": "display_data"
    }
   ],
   "source": [
    "# Plot the loss curves\n",
    "plt.plot(epoch_count, train_loss_values, label=\"Train loss\")\n",
    "plt.plot(epoch_count, test_loss_values, label=\"Test loss\")\n",
    "plt.title(\"Training and test loss curves\")\n",
    "plt.ylabel(\"Loss\")\n",
    "plt.xlabel(\"Epochs\")\n",
    "plt.legend();"
   ]
  },
  {
   "cell_type": "markdown",
   "id": "a278a6d5",
   "metadata": {},
   "source": [
    "when testing we dont need Backpropagation and GradDescnet \n",
    "we just evaluating things.\n",
    "\n",
    "Things we do while testing: \n",
    "- forward pass \n",
    "- calculate the testloss\n",
    "- "
   ]
  },
  {
   "cell_type": "code",
   "execution_count": 883,
   "id": "25e104de",
   "metadata": {},
   "outputs": [
    {
     "data": {
      "text/plain": [
       "tensor([[0.3518],\n",
       "        [0.3633],\n",
       "        [0.3749],\n",
       "        [0.3864],\n",
       "        [0.3979],\n",
       "        [0.4095],\n",
       "        [0.4210],\n",
       "        [0.4325],\n",
       "        [0.4441],\n",
       "        [0.4556],\n",
       "        [0.4671],\n",
       "        [0.4787],\n",
       "        [0.4902],\n",
       "        [0.5017],\n",
       "        [0.5133],\n",
       "        [0.5248],\n",
       "        [0.5363],\n",
       "        [0.5479],\n",
       "        [0.5594],\n",
       "        [0.5709],\n",
       "        [0.5825],\n",
       "        [0.5940],\n",
       "        [0.6055],\n",
       "        [0.6171],\n",
       "        [0.6286],\n",
       "        [0.6401],\n",
       "        [0.6517],\n",
       "        [0.6632],\n",
       "        [0.6747],\n",
       "        [0.6863],\n",
       "        [0.6978],\n",
       "        [0.7093],\n",
       "        [0.7209],\n",
       "        [0.7324],\n",
       "        [0.7439],\n",
       "        [0.7555],\n",
       "        [0.7670],\n",
       "        [0.7785],\n",
       "        [0.7901],\n",
       "        [0.8016]], grad_fn=<AddBackward0>)"
      ]
     },
     "execution_count": 883,
     "metadata": {},
     "output_type": "execute_result"
    }
   ],
   "source": [
    "y_pred"
   ]
  },
  {
   "cell_type": "code",
   "execution_count": 884,
   "id": "65f3252c",
   "metadata": {},
   "outputs": [
    {
     "data": {
      "text/plain": [
       "OrderedDict([('weights', tensor([0.5784])), ('bias', tensor([0.3513]))])"
      ]
     },
     "execution_count": 884,
     "metadata": {},
     "output_type": "execute_result"
    }
   ],
   "source": [
    "model_0.state_dict()"
   ]
  },
  {
   "cell_type": "code",
   "execution_count": 885,
   "id": "f2da8614",
   "metadata": {},
   "outputs": [
    {
     "data": {
      "text/plain": [
       "(0.7, 0.3)"
      ]
     },
     "execution_count": 885,
     "metadata": {},
     "output_type": "execute_result"
    }
   ],
   "source": [
    "weight, bias"
   ]
  },
  {
   "cell_type": "code",
   "execution_count": 886,
   "id": "407fbad7",
   "metadata": {},
   "outputs": [
    {
     "data": {
      "text/plain": [
       "tensor([[0.3518],\n",
       "        [0.3633],\n",
       "        [0.3749],\n",
       "        [0.3864],\n",
       "        [0.3979],\n",
       "        [0.4095],\n",
       "        [0.4210],\n",
       "        [0.4325],\n",
       "        [0.4441],\n",
       "        [0.4556],\n",
       "        [0.4671],\n",
       "        [0.4787],\n",
       "        [0.4902],\n",
       "        [0.5017],\n",
       "        [0.5133],\n",
       "        [0.5248],\n",
       "        [0.5363],\n",
       "        [0.5479],\n",
       "        [0.5594],\n",
       "        [0.5709],\n",
       "        [0.5825],\n",
       "        [0.5940],\n",
       "        [0.6055],\n",
       "        [0.6171],\n",
       "        [0.6286],\n",
       "        [0.6401],\n",
       "        [0.6517],\n",
       "        [0.6632],\n",
       "        [0.6747],\n",
       "        [0.6863],\n",
       "        [0.6978],\n",
       "        [0.7093],\n",
       "        [0.7209],\n",
       "        [0.7324],\n",
       "        [0.7439],\n",
       "        [0.7555],\n",
       "        [0.7670],\n",
       "        [0.7785],\n",
       "        [0.7901],\n",
       "        [0.8016]], grad_fn=<AddBackward0>)"
      ]
     },
     "execution_count": 886,
     "metadata": {},
     "output_type": "execute_result"
    }
   ],
   "source": [
    "y_pred"
   ]
  },
  {
   "cell_type": "code",
   "execution_count": 887,
   "id": "87b2ef28",
   "metadata": {},
   "outputs": [],
   "source": [
    "with torch.inference_mode(): # disable grad_tracking \n",
    "    y_preds_new = model_0(X_test) \n",
    "# y_preds_new"
   ]
  },
  {
   "cell_type": "code",
   "execution_count": 888,
   "id": "7539c404",
   "metadata": {},
   "outputs": [
    {
     "data": {
      "image/png": "[encoded data removed]",
      "text/plain": [
       "<Figure size 640x480 with 1 Axes>"
      ]
     },
     "metadata": {},
     "output_type": "display_data"
    }
   ],
   "source": [
    "plot_predictions(predictions=y_preds) # start "
   ]
  },
  {
   "cell_type": "code",
   "execution_count": 889,
   "id": "b85ca1e7",
   "metadata": {},
   "outputs": [
    {
     "data": {
      "image/png": "[encoded data removed]",
      "text/plain": [
       "<Figure size 640x480 with 1 Axes>"
      ]
     },
     "metadata": {},
     "output_type": "display_data"
    }
   ],
   "source": [
    "plot_predictions(predictions=y_preds_new) # end"
   ]
  },
  {
   "cell_type": "markdown",
   "id": "d4867b80",
   "metadata": {},
   "source": [
    "### `nn.Linear`\n",
    "\n",
    "nn.Linear applies a linear transformation to the incoming data: `y=xA^T + b`. It's designed to connect one layer of a neural network to the next.\n",
    "\n",
    "Explicit vs. Abstract Parameter Management: When you handcraft a linear model, you explicitly define and manage the weights and bias as nn.Parameter objects. In contrast, nn.Linear is a pre-built module that abstracts this process, automatically creating and initializing the parameters based on the in_features and out_features you provide."
   ]
  },
  {
   "cell_type": "code",
   "execution_count": 890,
   "id": "5cc62576",
   "metadata": {},
   "outputs": [
    {
     "name": "stdout",
     "output_type": "stream",
     "text": [
      "Weight:> Parameter containing:\n",
      "tensor([[0.5406, 0.5869]], requires_grad=True)\n",
      "\n",
      "\n",
      "Bias:> Parameter containing:\n",
      "tensor([-0.1657], requires_grad=True)\n",
      "\n",
      "\n",
      "2\n",
      "Dummy data: tensor([[2., 1.]])\n",
      "\n",
      "Model output: tensor([[1.5025]], grad_fn=<AddmmBackward0>)\n",
      "\n",
      "Manual calculation: tensor([[0.9156, 0.4212]], grad_fn=<AddBackward0>)\n"
     ]
    }
   ],
   "source": [
    "# torch.manual_seed(43)\n",
    "\n",
    "# model = nn.Linear(in_features=1, out_features=1)\n",
    "model = nn.Linear(in_features=2, out_features=1)\n",
    "\n",
    "print(f\"Weight:> {model.weight}\\n\\n\" )\n",
    "\n",
    "print(f\"Bias:> {model.bias}\\n\\n\" )\n",
    "\n",
    "\n",
    "# dummy_data = torch.tensor([[2.0]])\n",
    "dummy_data = torch.tensor([[2.0, 1.0]])\n",
    "# dummy_data.ndim\n",
    "print(dummy_data.dim())\n",
    "\n",
    "# Pass the data through the model\n",
    "output = model(dummy_data)\n",
    "\n",
    "print(f\"Dummy data: {dummy_data}\\n\")\n",
    "print(f\"Model output: {output}\\n\")\n",
    "print(f\"Manual calculation: {dummy_data * model.weight + model.bias}\")\n",
    "\n",
    "# The output from the model is the same as the manual calculation."
   ]
  },
  {
   "cell_type": "markdown",
   "id": "9dd8616f",
   "metadata": {},
   "source": [
    "### PyTorch model buidling essentials\n",
    "\n",
    "PyTorch has four (give or take) essential modules you can use to create almost any kind of neural network you can imagine.\n",
    "\n",
    "`torch.nn`, `torch.optim`, `torch.utils.data.Dataset` and `torch.utils.data.DataLoader`\n",
    "\n",
    "| PyTorch module                                                                                                | What does it do?                                                                                                                                                                                                                                                                                 |\n",
    "| ------------------------------------------------------------------------------------------------------------- | ------------------------------------------------------------------------------------------------------------------------------------------------------------------------------------------------------------------------------------------------------------------------------------------------ |\n",
    "| [`torch.nn`](https://pytorch.org/docs/stable/nn.html)                                                         | Contains all of the building blocks for computational graphs ( a neural network is considered as C-graphs) (essentially a series of computations executed in a particular way).                                                                                                                                                                |\n",
    "| [`torch.nn.Parameter`](https://pytorch.org/docs/stable/generated/torch.nn.parameter.Parameter.html#parameter) | Stores tensors that can be used with `nn.Module`. If `requires_grad=True` gradients (used for updating model parameters via [**gradient descent**](https://ml-cheatsheet.readthedocs.io/en/latest/gradient_descent.html)) are calculated automatically, this is often referred to as \"autograd\". |\n",
    "| [`torch.nn.Module`](https://pytorch.org/docs/stable/generated/torch.nn.Module.html#torch.nn.Module)           | The base class for all neural network modules, all the building blocks for neural networks are subclasses. If you're building a neural network in PyTorch, your models should subclass `nn.Module`. Requires a `forward()` method be implemented.                                                |\n",
    "| [`torch.optim`](https://pytorch.org/docs/stable/optim.html)                                                   | *This is where optimizers of pytorch lives* Contains various optimization algorithms (these tell the model parameters stored in `nn.Parameter` how to best change to improve gradient descent and in turn reduce the loss).                                                                                                                  |\n",
    "| `def forward()`                                                                                               | All `nn.Module` subclasses require a `forward()` method, this defines the computation that will take place on the data passed to the particular `nn.Module` (e.g. the linear regression formula above).                                                                                          |"
   ]
  }
 ],
 "metadata": {
  "kernelspec": {
   "display_name": "pytorch_venv",
   "language": "python",
   "name": "python3"
  },
  "language_info": {
   "codemirror_mode": {
    "name": "ipython",
    "version": 3
   },
   "file_extension": ".py",
   "mimetype": "text/x-python",
   "name": "python",
   "nbconvert_exporter": "python",
   "pygments_lexer": "ipython3",
   "version": "3.11.9"
  }
 },
 "nbformat": 4,
 "nbformat_minor": 5
}
